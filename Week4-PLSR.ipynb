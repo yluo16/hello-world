{
 "cells": [
  {
   "cell_type": "markdown",
   "metadata": {},
   "source": [
    "# Week 4 - Partial Least Squares Regression"
   ]
  },
  {
   "cell_type": "code",
   "execution_count": 7,
   "metadata": {
    "inputHidden": false,
    "outputHidden": false,
    "scrolled": true
   },
   "outputs": [],
   "source": [
    "import scipy as sp, numpy as np\n",
    "from sklearn.preprocessing import scale, StandardScaler\n",
    "from sklearn.cross_decomposition import PLSRegression\n",
    "from sklearn.model_selection import LeaveOneGroupOut, LeaveOneOut\n",
    "import matplotlib.pyplot as plt\n",
    "\n",
    "data = sp.io.loadmat('wk4_Cosgrove-data.mat', squeeze_me=True)['s']\n",
    "\n",
    "X = data['X'].item() # the untransformed data matrix (66x102)\n",
    "Y = data['Y'].item() # the untransformed LDH release at 48hours. (66x1)\n",
    "phosphoproteins = data['phosphoproteins'].item() # names of phosphoproteins\n",
    "conditions = data['conditions'].item() # cell array of the 66 conditions\n",
    "drugList = data['drugList'].item() # description of the drugs used in each of the 66 conditions\n",
    "drugListToxic = data['drugListToxic'].item() # binary value corresponding to whether drugList[i] is toxic\n",
    "drugs = data['drugs'].item() # binary matrix mapping which measurements correspond to a drug treatment in drugList\n",
    "cytokineList = data['cytokineList'].item() # cell array of cytokine treatments\n",
    "ind4pProtein = data['ind4pProtein'].item() # the column indices corresponding to measurements of the 4 phosphoprotein subset"
   ]
  },
  {
   "cell_type": "markdown",
   "metadata": {},
   "source": [
    "#### (1) Perform PLSR on the matrixes X and Y. Plot the percent variance explained. How many principal components do you need for each to explain 90% of the variance? Discuss your findings.\n",
    "\n",
    "Hint: Be sure to normalize each dataset as needed for the analysis."
   ]
  },
  {
   "cell_type": "code",
   "execution_count": 17,
   "metadata": {},
   "outputs": [
    {
     "data": {
      "image/png": "[encoded data removed]",
      "text/plain": [
       "<Figure size 432x288 with 1 Axes>"
      ]
     },
     "metadata": {
      "needs_background": "light"
     },
     "output_type": "display_data"
    }
   ],
   "source": [
    "# Answer\n",
    "Y_zs = scale(Y[:, -1])\n",
    "X_zs = scale(X)\n",
    "\n",
    "R2Y = np.zeros(10)\n",
    "for i in range(R2Y.size):\n",
    "    PLS = PLSRegression(n_components=i + 1)\n",
    "\n",
    "    PLS.fit(X, Y[:, -1])\n",
    "\n",
    "    R2Y[i] = PLS.score(X, Y[:, -1])\n",
    "\n",
    "plt.scatter(np.arange(R2Y.size) + 1, R2Y);\n",
    "plt.xlabel(\"number of principal components\");\n",
    "plt.ylabel(\"R2Y\");"
   ]
  },
  {
   "cell_type": "markdown",
   "metadata": {},
   "source": [
    "#### (2) Recreate the Figure S2A plot from Cosgrove et al. supplementary information. This is the PLSR scores plot (for PC1 and PC2), with toxic drugs colored according to the drug type and all other drugs are not colored. Use the drugList, drugListToxic to identify these categories."
   ]
  },
  {
   "cell_type": "code",
   "execution_count": 21,
   "metadata": {
    "inputHidden": false,
    "outputHidden": false
   },
   "outputs": [
    {
     "data": {
      "image/png": "[encoded data removed]",
      "text/plain": [
       "<Figure size 576x576 with 1 Axes>"
      ]
     },
     "metadata": {
      "needs_background": "light"
     },
     "output_type": "display_data"
    }
   ],
   "source": [
    "# Answer\n",
    "PLS = PLSRegression(n_components=4)\n",
    "xScores, yScores = PLS.fit_transform(X_zs, Y_zs)\n",
    "\n",
    "toxMask = drugListToxic\n",
    "tox_iters = np.arange(11)[toxMask==1]\n",
    "colors = ['r','b','g','k','m','c']\n",
    "c_indx = -1\n",
    "\n",
    "#plot the drug scores (PCs) one at a time\n",
    "plt.figure(figsize=(8,8))\n",
    "for indx in np.arange(drugs.shape[1]): #numbers between 0 and 10\n",
    "    #Check whether the drug is toxic or not and select corresponding color.\n",
    "    if indx not in tox_iters:\n",
    "        C = 'gray'\n",
    "        alph = 0.5\n",
    "    else:\n",
    "        c_indx +=1\n",
    "        C = colors[c_indx]\n",
    "    mask = drugs[:,indx]==1\n",
    "    xVals = xScores[:,0]\n",
    "    yVals = xScores[:,1]\n",
    "    drugX = xVals[mask]\n",
    "    drugY = yVals[mask]\n",
    "    plt.plot(drugX, drugY, '.', markersize = 10, c=C, alpha = alph, label = drugList[indx])\n",
    "\n",
    "plt.xlim(-12,12);\n",
    "plt.ylim(-12,12);\n",
    "plt.xlabel(\"PC1\");\n",
    "plt.ylabel(\"PC2\");\n",
    "plt.legend(loc = 2);"
   ]
  },
  {
   "cell_type": "markdown",
   "metadata": {},
   "source": [
    "#### (3) Create the loadings plot corresponding to (2). Interpret the results shown on the plot."
   ]
  },
  {
   "cell_type": "code",
   "execution_count": 22,
   "metadata": {},
   "outputs": [
    {
     "name": "stdout",
     "output_type": "stream",
     "text": [
      "(102, 4)\n"
     ]
    }
   ],
   "source": [
    "# Answer\n",
    "loadings = PLS.x_loadings_\n",
    "yloadings = PLS.y_loadings_\n",
    "print(loadings.shape)"
   ]
  },
  {
   "cell_type": "markdown",
   "metadata": {},
   "source": [
    "#### (4) Recreate a 4-principal component model using PLSR with just the final 4 phosphoprotein model. Plot predicted v. observed LDH for this model. Report the model fitness ($R^2$). Define here how you are calculating $R^2$."
   ]
  },
  {
   "cell_type": "code",
   "execution_count": 5,
   "metadata": {
    "inputHidden": false,
    "outputHidden": false
   },
   "outputs": [],
   "source": [
    "# Answer"
   ]
  },
  {
   "cell_type": "markdown",
   "metadata": {},
   "source": [
    "#### (6) Cosgrove *et al* discusses their method for model validation using leave-one-out cross-validation. Calculate all LDH predictions for leave-one-out cross-validation and calculate the R^2 value for the resulting yfit values. What is the R^2 value? Why do you think it’s important to perform cross-validation?"
   ]
  },
  {
   "cell_type": "code",
   "execution_count": 6,
   "metadata": {},
   "outputs": [],
   "source": [
    "# Answer"
   ]
  },
  {
   "cell_type": "markdown",
   "metadata": {},
   "source": [
    "#### (7) Now, instead of performing LOOCV, let's perform leave-one-cytokine-out cross-validation. That is, one cytokine at a time, leave out all the data for the `NoCyt`, `IL-1`, `LPS`, `TNF`, `IL-6`, or `Mix` conditions.\n",
    "\n",
    "Hint: Look at `sklearn.model_selection.LeaveOneGroupOut`.\n",
    "\n",
    "How does this affect your cross-validation? How do the two approaches here differ? When might each be most appropriate?"
   ]
  },
  {
   "cell_type": "code",
   "execution_count": 7,
   "metadata": {},
   "outputs": [],
   "source": [
    "# Answer"
   ]
  }
 ],
 "metadata": {
  "kernel_info": {
   "name": "python3"
  },
  "kernelspec": {
   "display_name": "Python 3",
   "language": "python",
   "name": "python3"
  },
  "language_info": {
   "codemirror_mode": {
    "name": "ipython",
    "version": 3
   },
   "file_extension": ".py",
   "mimetype": "text/x-python",
   "name": "python",
   "nbconvert_exporter": "python",
   "pygments_lexer": "ipython3",
   "version": "3.7.1"
  },
  "nteract": {
   "version": "0.7.1"
  }
 },
 "nbformat": 4,
 "nbformat_minor": 4
}
